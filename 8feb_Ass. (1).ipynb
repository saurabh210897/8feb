{
 "cells": [
  {
   "cell_type": "code",
   "execution_count": 1,
   "id": "a760f4ea-ae88-4995-bce3-3534c5a4d240",
   "metadata": {},
   "outputs": [],
   "source": [
    "# Q1. What is Abstraction in OOps? Explain with an example.\n",
    "\n",
    "\n",
    "# Q2. Differentiate between Abstraction and Encapsulation. Explain with an example.\n",
    "\n",
    "\n",
    "# Q3. What is abc module in python? Why is it used?\n",
    "\n",
    "\n",
    "# Q4. How can we achieve data abstraction?\n",
    "\n",
    "\n",
    "# Q5. Can we create an instance of an abstract class? Explain your answer"
   ]
  },
  {
   "cell_type": "code",
   "execution_count": 2,
   "id": "747cea89-5f62-454f-90cc-8f011540a239",
   "metadata": {},
   "outputs": [],
   "source": [
    "# Abstraction is one of the four fundamental concepts of Object-Oriented Programming (OOPs), which refers to the process of hiding complex \n",
    "# implementation details and showing only essential features to the user. It is achieved by creating abstract classes and interfaces, \n",
    "# which act as blueprints for creating objects and defining their behavior.\n",
    "\n",
    "# An example of abstraction could be a car. A car is an abstraction of various complex systems and components like the engine, transmission,\n",
    "# suspension, etc. A driver does not need to know the intricate details of how the car's engine works or how the transmission shifts gears. \n",
    "# Instead, they only need to know how to drive the car, which involves pressing the accelerator, brake, and steering wheel.\n",
    "\n",
    "# Similarly, in OOPs, a software developer can use abstraction to hide the implementation details of a class and expose only \n",
    "# the essential methods and properties required for the user to interact with the object. For instance, consider a class called \"BankAccount\" \n",
    "# that contains sensitive information like the account holder's name, account number, and balance. Using abstraction, the developer can hide \n",
    "# the implementation details of the \"BankAccount\" class and only expose methods like \"deposit,\" \"withdraw,\" and \"checkBalance\" to the user, \n",
    "# allowing them to interact with the object without accessing its sensitive information."
   ]
  },
  {
   "cell_type": "code",
   "execution_count": 3,
   "id": "a5f9c4ce-f04d-470d-8ab8-9e1136ab6317",
   "metadata": {},
   "outputs": [],
   "source": [
    "#Q2. Differentiate between Abstraction and Encapsulation. Explain with an example."
   ]
  },
  {
   "cell_type": "code",
   "execution_count": 4,
   "id": "6201b11c-0aff-4e6a-abf1-da546b4ae555",
   "metadata": {},
   "outputs": [],
   "source": [
    "# Abstraction and Encapsulation are two important concepts of Object-Oriented Programming (OOPs) that are often confused with each other. \n",
    "# Although both concepts are related to hiding information, they have some fundamental differences.\n",
    "\n",
    "# Abstraction refers to the process of hiding complex implementation details and showing only essential features to the user. \n",
    "# It is achieved by creating abstract classes and interfaces. On the other hand, Encapsulation is a technique of wrapping data and code into \n",
    "# a single unit and controlling access to the data.\n",
    "\n",
    "# Abstraction focuses on the behavior of the object and hides its internal details, whereas Encapsulation focuses on the data and how \n",
    "# it is accessed and modified.\n",
    "\n",
    "# Abstraction is more of a design principle, whereas Encapsulation is an implementation detail.\n",
    "\n",
    "# Example of Abstraction:\n",
    "# Consider a class called \"Shape,\" which has sub-classes such as \"Rectangle,\" \"Circle,\" and \"Triangle.\" \n",
    "# The Shape class defines the abstract properties and methods that are common to all the sub-classes. \n",
    "# Each sub-class provides its own implementation of the methods and properties, and the user can interact with \n",
    "# each object by calling the abstract methods without knowing the internal details of each object.\n",
    "\n",
    "# Example of Encapsulation:\n",
    "# Consider a class called \"BankAccount,\" which contains sensitive information like \n",
    "# the account holder's name, account number, and balance. The class uses encapsulation to protect the data by making it private and providing public \n",
    "# methods like \"deposit,\" \"withdraw,\" and \"checkBalance\" to access the data. The user cannot directly modify the data, and the class ensures that\n",
    "# the data is consistent and valid at all times. This prevents unauthorized access to the data and improves the security and integrity of the system."
   ]
  },
  {
   "cell_type": "code",
   "execution_count": 5,
   "id": "92e1dca8-53da-46c9-bdd0-9a87ca73ac8c",
   "metadata": {},
   "outputs": [],
   "source": [
    "#Q3. What is abc module in python? Why is it used?"
   ]
  },
  {
   "cell_type": "code",
   "execution_count": 6,
   "id": "28c48911-587e-4860-9263-8158562d613d",
   "metadata": {},
   "outputs": [
    {
     "name": "stdout",
     "output_type": "stream",
     "text": [
      "12\n",
      "14\n"
     ]
    }
   ],
   "source": [
    "# The abc module in Python stands for Abstract Base Classes. It provides a way to define abstract classes, which are classes that cannot \n",
    "# be instantiated directly, but must be subclassed and implemented by concrete classes.\n",
    "\n",
    "# The abc module is used to enforce certain programming rules and best practices. By defining abstract base classes, \n",
    "# you can ensure that the subclasses have certain methods or attributes that are required for the class to function properly. \n",
    "# This helps you to write more robust and maintainable code.\n",
    "\n",
    "# For example, if you have a class hierarchy for shapes, you might define an abstract base class called Shape that has methods \n",
    "# like area() and perimeter(). Any concrete subclass of Shape must implement these methods, so you can be sure that any instance of \n",
    "# a Shape subclass will have these methods available.\n",
    "\n",
    "# Here is an example of how the abc module can be used:\n",
    "\n",
    "import abc\n",
    "\n",
    "class Shape(metaclass=abc.ABCMeta):\n",
    "    @abc.abstractmethod\n",
    "    def area(self):\n",
    "        pass\n",
    "\n",
    "    @abc.abstractmethod\n",
    "    def perimeter(self):\n",
    "        pass\n",
    "\n",
    "class Rectangle(Shape):\n",
    "    def __init__(self, width, height):\n",
    "        self.width = width\n",
    "        self.height = height\n",
    "\n",
    "    def area(self):\n",
    "        return self.width * self.height\n",
    "\n",
    "    def perimeter(self):\n",
    "        return 2 * (self.width + self.height)\n",
    "\n",
    "r = Rectangle(3, 4)\n",
    "print(r.area()) # Output: 12\n",
    "print(r.perimeter()) # Output: 14\n"
   ]
  },
  {
   "cell_type": "code",
   "execution_count": 7,
   "id": "54b35b08-35f9-4e78-8b94-a72f4e3fd175",
   "metadata": {},
   "outputs": [],
   "source": [
    "# Q4. How can we achieve data abstraction?"
   ]
  },
  {
   "cell_type": "code",
   "execution_count": 8,
   "id": "e1f7d000-866f-4582-849b-d0d7a875ed30",
   "metadata": {},
   "outputs": [],
   "source": [
    "# Data abstraction is a technique in software engineering where complex data structures are represented in a simplified manner. \n",
    "# It involves hiding unnecessary details of data and showing only the relevant and essential information to the user. \n",
    "# Here are some ways to achieve data abstraction:\n",
    "\n",
    "# Encapsulation: Encapsulation is the process of wrapping data and code that manipulate the data together in a single unit called a class. \n",
    "# The data is hidden from the user, and only the methods that manipulate the data are exposed to the user. \n",
    "# This helps to achieve data abstraction by hiding the internal details of the data and showing only the essential methods.\n",
    "\n",
    "# Modularity: Breaking the code into smaller modules can help in achieving data abstraction. \n",
    "# Each module can handle a specific set of functions or data, and they can be used independently without revealing the details of the other modules. \n",
    "# This helps in managing complexity and reduces dependencies.\n",
    "\n",
    "# Data Modeling: Data modeling is a process of creating a conceptual representation of data. \n",
    "# It defines the structure, relationships, and constraints of the data. By modeling the data, \n",
    "# we can abstract the complexity and represent the data in a simplified way.\n",
    "\n",
    "# Data Dictionary: A data dictionary is a central repository that stores information about the data elements used in an organization or project. \n",
    "# It provides a description of each data element, including its data type, length, source, and usage. \n",
    "# A data dictionary can help in achieving data abstraction by providing a centralized view of the data and hiding \n",
    "# the implementation details.\n",
    "\n",
    "# Object-Oriented Programming: Object-Oriented Programming (OOP) is a programming paradigm that emphasizes the use of objects and classes. \n",
    "# OOP allows us to achieve data abstraction by encapsulating the data and exposing only the essential methods to the user. \n",
    "# OOP provides a powerful mechanism for modeling real-world problems, which can help in achieving data abstraction."
   ]
  },
  {
   "cell_type": "code",
   "execution_count": 9,
   "id": "15f46653-8611-425f-8797-8ab749918ce5",
   "metadata": {},
   "outputs": [],
   "source": [
    "#Q5. Can we create an instance of an abstract class? Explain your answer"
   ]
  },
  {
   "cell_type": "code",
   "execution_count": null,
   "id": "856904aa-1a56-4019-a72f-2b93dc19c9f8",
   "metadata": {},
   "outputs": [],
   "source": [
    "# No, we cannot create an instance of an abstract class in Java or other languages that support the concept of abstract classes. \n",
    "# An abstract class is a class that is declared with the \"abstract\" keyword,\n",
    "# and it is intended to be used as a base class for other classes. Abstract classes cannot be instantiated, meaning we cannot create objects of\n",
    "# the abstract class directly.\n",
    "\n",
    "# The purpose of an abstract class is to provide a common interface and behavior for a group of related classes, while allowing each of \n",
    "# the individual classes to implement their unique functionality. Abstract classes typically define abstract methods, which are declared without\n",
    "# implementation and are meant to be overridden by the subclasses.\n",
    "\n",
    "# To create an object of a class, it must be a concrete class that is not abstract. Concrete classes are classes that provide implementations \n",
    "# for all the methods defined in the class hierarchy. In other words, they are classes that can be instantiated.\n",
    "\n",
    "# In summary, abstract classes cannot be instantiated because they are incomplete and provide no implementation of their own. \n",
    "# They are designed to be extended by concrete classes that provide their own implementations for the abstract methods."
   ]
  }
 ],
 "metadata": {
  "kernelspec": {
   "display_name": "Python 3 (ipykernel)",
   "language": "python",
   "name": "python3"
  },
  "language_info": {
   "codemirror_mode": {
    "name": "ipython",
    "version": 3
   },
   "file_extension": ".py",
   "mimetype": "text/x-python",
   "name": "python",
   "nbconvert_exporter": "python",
   "pygments_lexer": "ipython3",
   "version": "3.10.8"
  }
 },
 "nbformat": 4,
 "nbformat_minor": 5
}
